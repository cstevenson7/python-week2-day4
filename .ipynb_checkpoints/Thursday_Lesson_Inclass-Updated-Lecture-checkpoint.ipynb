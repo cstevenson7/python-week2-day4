{
 "cells": [
  {
   "cell_type": "markdown",
   "metadata": {},
   "source": [
    "# Object-Oriented-Programming (OOP)"
   ]
  },
  {
   "cell_type": "markdown",
   "metadata": {},
   "source": [
    "## Tasks Today:\n",
    "\n",
    "   \n",
    "\n",
    "1) <b>Creating a Class (Initializing/Declaring)</b> <br>\n",
    "2) <b>Using a Class (Instantiating)</b> <br>\n",
    " &nbsp;&nbsp;&nbsp;&nbsp; a) Creating One Instance <br>\n",
    " &nbsp;&nbsp;&nbsp;&nbsp; b) Creating Multiple Instances <br>\n",
    " &nbsp;&nbsp;&nbsp;&nbsp; c) In-Class Exercise #1 - Create a Class 'Car' and instantiate three different makes of cars <br>\n",
    "3) <b>The \\__init\\__() Method</b> <br>\n",
    " &nbsp;&nbsp;&nbsp;&nbsp; a) The 'self' Attribute <br>\n",
    "4) <b>Class Attributes</b> <br>\n",
    " &nbsp;&nbsp;&nbsp;&nbsp; a) Initializing Attributes <br>\n",
    " &nbsp;&nbsp;&nbsp;&nbsp; b) Setting an Attribute Outside of the \\__init\\__() Method <br>\n",
    " &nbsp;&nbsp;&nbsp;&nbsp; c) Setting Defaults for Attributes <br>\n",
    " &nbsp;&nbsp;&nbsp;&nbsp; d) Accessing Class Attributes <br>\n",
    " &nbsp;&nbsp;&nbsp;&nbsp; e) Changing Class Attributes <br>\n",
    " &nbsp;&nbsp;&nbsp;&nbsp; f) In-Class Exercise #2 - Add a color and wheels attribute to your 'Car' class <br>\n",
    "5) <b>Class Methods</b> <br>\n",
    " &nbsp;&nbsp;&nbsp;&nbsp; a) Creating <br>\n",
    " &nbsp;&nbsp;&nbsp;&nbsp; b) Calling <br>\n",
    " &nbsp;&nbsp;&nbsp;&nbsp; c) Modifying an Attribute's Value Through a Method <br>\n",
    " &nbsp;&nbsp;&nbsp;&nbsp; d) Incrementing an Attribute's Value Through a Method <br>\n",
    " &nbsp;&nbsp;&nbsp;&nbsp; e) In-Class Exercise #3 - Add a method that prints the cars color and wheel number, then call them <br>\n",
    "6) <b>Inheritance</b> <br>\n",
    " &nbsp;&nbsp;&nbsp;&nbsp; a) Syntax for Inheriting from a Parent Class <br>\n",
    " &nbsp;&nbsp;&nbsp;&nbsp; b) The \\__init\\__() Method for a Child Class (super()) <br>\n",
    " &nbsp;&nbsp;&nbsp;&nbsp; c) Defining Attributes and Methods for the Child Class <br>\n",
    " &nbsp;&nbsp;&nbsp;&nbsp; d) Method Overriding <br>\n",
    " &nbsp;&nbsp;&nbsp;&nbsp; e) In-Class Exercise #4 - Create a class 'Ford' that inherits from 'Car' class and initialize it as a Blue Ford Explorer with 4 wheels using the super() method <br>\n",
    "7) <b>Classes as Attributes</b> <br>\n",
    "8) <b>Exercises</b> <br>\n",
    " &nbsp;&nbsp;&nbsp;&nbsp; a) Exercise #1 - Turn the shopping cart program from yesterday into an object-oriented program <br>"
   ]
  },
  {
   "cell_type": "code",
   "execution_count": null,
   "metadata": {},
   "outputs": [],
   "source": [
    "## I missed something in Joels code\n",
    "\n",
    "from IPython.display import clear_output\n",
    "cart = []\n",
    "#Add to card using helper functions\n",
    "def addItem(item):\n",
    "    clear_output()\n",
    "    cart.append((item))\n",
    "    \n",
    "def removeItem(item):\n",
    "    clear_output()\n",
    "    cart.remove(item)\n",
    "\n",
    "def showCart():\n",
    "    clear_output()\n",
    "    print(\"Here is your cart...\")\n",
    "    for item in cart:\n",
    "        print(item)\n",
    "        \n",
    "def clearCart():\n",
    "    clear_output()\n",
    "    print(\"Your cart is now empty\")\n",
    "    cart.clear()\n",
    "    \n",
    "def shoppingCart():\n",
    "    while True:\n",
    "        response =  input(\"You can: quit / add / remove / show or clear\")\n",
    "        \n",
    "        if response.lower() == 'quit':\n",
    "            print(\"Thanksfor shopping here is you cart\")\n",
    "            showCart()\n",
    "            break\n",
    "        elif response.lower() == 'add':\n",
    "            item = input(\"What do you want to add? \")\n",
    "            addItem(item)\n",
    "        elif response.lower() == 'show':\n",
    "            showCart()\n",
    "        elif response.lower() == 'remove':\n",
    "            showCart()\n",
    "            item = input('What do you want to remove? ')\n",
    "            removeItem(item)\n",
    "        elif response.lower() == 'clear':\n",
    "            clearCart()\n",
    "        else:\n",
    "            print(\"Sorry not a valid response-choose again\")\n",
    "\n",
    "shoppingCart()  \n",
    "      \n",
    "\n",
    "        \n",
    "        \n",
    "    \n",
    "    \n",
    "        "
   ]
  },
  {
   "cell_type": "code",
   "execution_count": null,
   "metadata": {},
   "outputs": [],
   "source": [
    "# Circumfrance of a cirle\n"
   ]
  },
  {
   "cell_type": "markdown",
   "metadata": {},
   "source": [
    "## Creating a Class (Initializing/Declaring)\n",
    "<p>When creating a class, function, or even a variable you are initializing that object. Initializing and Declaring occur at the same time in Python, whereas in lower level languages you have to declare an object before initializing it. This is the first step in the process of using a class.</p>"
   ]
  },
  {
   "cell_type": "code",
   "execution_count": null,
   "metadata": {},
   "outputs": [],
   "source": [
    "class Car():\n",
    "    wheels = 4\n",
    "    color = \"Blue\"  # class attribute is color -  blue is the assigned value of the attribute"
   ]
  },
  {
   "cell_type": "markdown",
   "metadata": {},
   "source": [
    "## Using a Class (Instantiating)\n",
    "<p>The process of creating a class is called <i>Instantiating</i>. Each time you create a variable of that type of class, it is referred to as an <i>Instance</i> of that class. This is the second step in the process of using a class.</p>"
   ]
  },
  {
   "cell_type": "markdown",
   "metadata": {},
   "source": [
    "##### Creating One Instance"
   ]
  },
  {
   "cell_type": "code",
   "execution_count": null,
   "metadata": {},
   "outputs": [],
   "source": [
    "#To use aka instantiate class or you could say this is an instance of this class\n",
    "ford = Car()\n",
    "\n",
    "ford.wheels"
   ]
  },
  {
   "cell_type": "markdown",
   "metadata": {},
   "source": [
    "##### Creating Multiple Instances"
   ]
  },
  {
   "cell_type": "code",
   "execution_count": null,
   "metadata": {},
   "outputs": [],
   "source": [
    "#now we can reuse the CAR object, here each instance has the same characteristics\n",
    "chevy = Car()\n",
    "honda  =Car()\n",
    "porshe = Car()\n",
    "\n",
    "porshe.color\n"
   ]
  },
  {
   "cell_type": "markdown",
   "metadata": {},
   "source": [
    "##### In-Class Exercise #1 - Create a Class 'Car' and Instantiate three different makes of cars"
   ]
  },
  {
   "cell_type": "code",
   "execution_count": null,
   "metadata": {},
   "outputs": [],
   "source": [
    "#PEP* STYLE CLASS IS ALWAYS UPPERCASE to distinguish from a function\n",
    "#THIS IS CALLED A CLASS WITH CONSTANT ATTRIBUTES\n",
    "class Car():\n",
    "    doors= 2\n",
    "    new_color= 'black'\n",
    "    wheels = 4\n",
    "    sunroof = True\n",
    "    \n",
    "#instances of the Car object   \n",
    "subaru = Car()\n",
    "honda = Car()\n",
    "bmw = Car()\n",
    "ford = Car()\n",
    "\n",
    "#subaru.new_color\n",
    "print(f\" sunroof {subaru.sunroof}\")\n",
    "print(f\" sunroof {honda.sunroof}\")\n",
    "print(f\"number of wheels {bmw.wheels}\")\n",
    "print(f\"number of doors {ford.doors}\")\n",
    "\n"
   ]
  },
  {
   "cell_type": "markdown",
   "metadata": {},
   "source": [
    "## The \\__init\\__() Method <br>\n",
    "<p>This method is used in almost every created class, and called only once upon the creation of the class instance. This method will initialize all variables needed for the object.</p>"
   ]
  },
  {
   "cell_type": "code",
   "execution_count": null,
   "metadata": {},
   "outputs": [],
   "source": [
    "#  __ sometines called a dunderscore\n",
    "#this method is generally called in every progeam\n",
    "\n",
    "class Toy():\n",
    "    kind = \"car\"   # if created outside the class initialization it is a consant attribute\n",
    "   \n",
    "    #parameters can be any data type\n",
    "    #any time you see self it is referencing it's own class\n",
    "    #With init your are specifing  the baseline toy object\n",
    "    \n",
    "    def __init__(self,rooftop,horn,wheels): #self is a speaking about the toy in the third person\n",
    "        self.rooftop = rooftop\n",
    "        self.horn = horn\n",
    "        self.wheels = wheels\n",
    "# you always have to have the same amount ot argiements as the parameters (except SELF, it will always be in the agrument\n",
    "# Pyton adds self for you) in the toy function       \n",
    "hotwheels_car = Toy(1,1,4)\n",
    "\n",
    "print(type(hotwheels_car.wheels))\n",
    "\n",
    "#ALWAYS LOOKING FOR a PARAMENTER IN THIS CALL -  SELF IS ADDED BY PYTHON IN YOUR FUNCTION CALL\n",
    "print(hotwheels_car.wheels)\n",
    "\n",
    "       "
   ]
  },
  {
   "cell_type": "markdown",
   "metadata": {},
   "source": [
    "##### The 'self' Attribute <br>\n",
    "<p>This attribute is required to keep track of specific instance's attributes. Without the self attribute, the program would not know how to reference or keep track of an instance's attributes.</p>"
   ]
  },
  {
   "cell_type": "code",
   "execution_count": null,
   "metadata": {},
   "outputs": [],
   "source": [
    "# see above"
   ]
  },
  {
   "cell_type": "markdown",
   "metadata": {},
   "source": [
    "## Class Attributes <br>\n",
    "<p>While variables are inside of a class, they are referred to as attributes and not variables. When someone says 'attribute' you know they're speaking about a class. Attributes can be initialized through the init method, or outside of it.</p>"
   ]
  },
  {
   "cell_type": "markdown",
   "metadata": {},
   "source": [
    "##### Initializing Attributes"
   ]
  },
  {
   "cell_type": "code",
   "execution_count": null,
   "metadata": {},
   "outputs": [],
   "source": [
    "# INITIALIZING A class the initilizign of the attributes comes iwth the instatiation of the class\n",
    "   \n",
    "              #this is the initialization of the attributes\n",
    "#calssical scoping\n",
    "tonka_truck = Toy(2,1,4) # 2 rooftop, 1 horn and 4 wjheels"
   ]
  },
  {
   "cell_type": "markdown",
   "metadata": {},
   "source": [
    "##### Accessing Class Attributes"
   ]
  },
  {
   "cell_type": "code",
   "execution_count": null,
   "metadata": {
    "scrolled": true
   },
   "outputs": [],
   "source": [
    "# See Above\n",
    "#unless you only have assigned th attributes like above\n",
    "\n",
    "def creation_paw_patrol():\n",
    "    rooftop = 2\n",
    "    return rooftop\n",
    "\n",
    "print(tonka_truck.rooftop)\n",
    "print(creation_paw_patrol())"
   ]
  },
  {
   "cell_type": "markdown",
   "metadata": {},
   "source": [
    "##### Setting Defaults for Attributes"
   ]
  },
  {
   "cell_type": "code",
   "execution_count": null,
   "metadata": {},
   "outputs": [],
   "source": [
    "##Default args always go at end\n",
    "\n",
    "class Human():\n",
    "    def __init__(self, walking,height,weight, talk = True, eyes=\"brown\"):\n",
    "        self.walking = walking\n",
    "        self.height = height\n",
    "        self.weight = weight\n",
    "        self.talk = talk\n",
    "        self.eyes = eyes\n",
    "        \n",
    "weight= input(\"how much do you weigh?\")\n",
    "\n",
    "# Here joel is an instance of the object human, human is data type class\n",
    "joel = Human(True,\"6ft 1in\",weight)\n",
    "\n",
    "# this is just printing out the values of the talk attribute like above\n",
    "print(joel.talk)"
   ]
  },
  {
   "cell_type": "markdown",
   "metadata": {},
   "source": [
    "##### Changing Class Attributes <br>\n",
    "<p>Keep in mind there are global class attributes and then there are attributes only available to each class instance which won't effect other classes.</p>"
   ]
  },
  {
   "cell_type": "code",
   "execution_count": null,
   "metadata": {},
   "outputs": [],
   "source": [
    "# sometimes you need to change some of the constant attributes\n",
    "print(tonka_truck.kind)\n",
    "tonka_truck.kind = \"Truck\"\n",
    "print(\"After the change \", tonka_truck.kind)"
   ]
  },
  {
   "cell_type": "code",
   "execution_count": null,
   "metadata": {},
   "outputs": [],
   "source": [
    "print(joel.weight)\n",
    "#once you instantiate a class  you can changes a constant value or a ..attributevalue\n",
    "joel.weight = \"210lb\"\n",
    "print(\"after \", joel.weight)"
   ]
  },
  {
   "cell_type": "markdown",
   "metadata": {},
   "source": [
    "##### In-Class Exercise #2 - Add a doors and seats attribute to your 'Car' class then print out two different instances with different doors and seats"
   ]
  },
  {
   "cell_type": "code",
   "execution_count": null,
   "metadata": {},
   "outputs": [],
   "source": [
    "# tesla = Car(4,5)\n",
    "# crv = Car(4,6)\n",
    "\n",
    "\n",
    "# this way is called CONSTRUCTED attributes\n",
    "class Car():\n",
    "    def __init__(self, doors, seats, color, wheels,sunroof):\n",
    "        self.doors = doors   \n",
    "        self.seats = seats\n",
    "        self.color= color\n",
    "        self.wheels = wheels\n",
    "        self.sunroof = sunroof\n",
    "        \n",
    "    \n",
    "tesla = Car(4,5, 'white', 4,True)\n",
    "crv = Car(4,6, 'red', 4 ,False)\n",
    "mini= Car(2,4,'blue',5,True)\n",
    "\n",
    "print(tesla.doors)\n",
    "print(crv.seats)\n",
    "print(crv.sunroof)\n",
    "print(mini.color)\n"
   ]
  },
  {
   "cell_type": "markdown",
   "metadata": {},
   "source": [
    "## Class Methods <br>\n",
    "<p>While inside of a class, functions are referred to as 'methods'. If you hear someone mention methods, they're speaking about classes. Methods are essentially functions, but only callable on the instances of a class.</p>"
   ]
  },
  {
   "cell_type": "markdown",
   "metadata": {},
   "source": [
    "##### Creating"
   ]
  },
  {
   "cell_type": "code",
   "execution_count": null,
   "metadata": {},
   "outputs": [],
   "source": [
    "# grab allt he thisng you wan tto tdo encapsultate it\n",
    "#and the attributes you need to know how you are going to use\n",
    "#the attrubutes. Makes you tink about you procees before \n",
    "# code it. Try not to hard code anything everything is dynamically\n",
    "#defined when we run the program You would have all your class parrameters\n",
    "#from the Class diagrams in the large teams.\n",
    "\n",
    "class ShoppingBag():\n",
    "    def __init__(self, handles, capacity, item):\n",
    "        #constructed values\n",
    "        self.handles = handles\n",
    "        self.capacity = capacity\n",
    "        self.item = item\n",
    "        \"\"\"\n",
    "         ShoppingBag requires 3 positional arguments\n",
    "         Handles  -  integer expected\n",
    "         capacity - int expected\n",
    "         items - list is expected- List can be empty\n",
    "         \n",
    "        \"\"\" \n",
    "    \n",
    "\n",
    "    #Method to show ShoppingBag\n",
    "    def showShoppingBag(self):\n",
    "        print(\"You have items in your bag! \")\n",
    "        for item in self.item:\n",
    "            print(item)\n",
    "     #Method to show capacity of bag\n",
    "    def showCapacity(self):\n",
    "        print(f\"Your capacity is {self.capacity}\")\n",
    "\n",
    "    #Method add to SB\n",
    "    def addToShoppingBag(self):\n",
    "        product = input(\"What would you like to add? \")\n",
    "        self.item.append(product)\n",
    "\n",
    "    #Method to cahnge  currentSB capacity need para capacity for the currnt\n",
    "    def changeBagCapacity(self,capacity):\n",
    "        \"\"\"            this method assumes capacity will be an integer\n",
    "\n",
    "        \"\"\"\n",
    "        self.capacity = capacity\n",
    "\n",
    "    #method to Auto increase capacity   \n",
    "    def AutoIncreaseCapacity (self):\n",
    "        if self.capacity == isinstance(self.capcity,str):\n",
    "            print(\"Hey you can't do that here buddy  \")\n",
    "        else:\n",
    "            self.capacity +=10\n",
    "def run():\n",
    "    # this is the instatiation of the shopping bac\n",
    "    whole_food_bag = ShoppingBag(2,10,[])\n",
    "\n",
    "    while True:\n",
    "        response = input(\"what do you  - Add/Show or Quit? \")\n",
    "        if response.lower() == \"add\":\n",
    "            whole_food_bag.addToShoppingBag()\n",
    "        if response.lower() == \"show\":\n",
    "            whole_food_bag.showShoppingBag()\n",
    "        if response.lower() == \"quit\":\n",
    "            print(\"Here is your bag \")\n",
    "            whole_food_bag.showShoppingBag()\n",
    "            break\n",
    "\n",
    "run()\n",
    "\n"
   ]
  },
  {
   "cell_type": "markdown",
   "metadata": {},
   "source": [
    "##### Calling"
   ]
  },
  {
   "cell_type": "code",
   "execution_count": null,
   "metadata": {},
   "outputs": [],
   "source": [
    "# See Above"
   ]
  },
  {
   "cell_type": "markdown",
   "metadata": {},
   "source": [
    "##### Modifying an Attribute's Value Through a Method"
   ]
  },
  {
   "cell_type": "code",
   "execution_count": null,
   "metadata": {},
   "outputs": [],
   "source": [
    "# using the shooping bag eg\n",
    " #using dynamically defined don't want to hard code anuthing\n",
    "whole_food_bag=(2,20,[])\n",
    "print(\"after change\")\n",
    "whole_food_bag.changeBagCapacity(20)\n",
    "whole_food_bag.showCapacity()"
   ]
  },
  {
   "cell_type": "markdown",
   "metadata": {},
   "source": [
    "##### Incrementing an Attribute's Value Through a Method"
   ]
  },
  {
   "cell_type": "code",
   "execution_count": null,
   "metadata": {},
   "outputs": [],
   "source": [
    "whole_food_bag.showCapacity()\n",
    "print(\"Cap after\")\n",
    "whole_food_bag.autoIncreaseCapacity()\n",
    "whole_food_bag.showCapacity()"
   ]
  },
  {
   "cell_type": "markdown",
   "metadata": {},
   "source": [
    "##### In-Class Exercise #3 - Add a method that takes in three parameters of year, doors and seats and prints out a formatted print statement with make, model, year, seats, and doors"
   ]
  },
  {
   "cell_type": "code",
   "execution_count": null,
   "metadata": {},
   "outputs": [],
   "source": [
    "# Create class with 2 paramters inside of the __init__ which are make and model-these are the CONSTANT ATTRIBUTES\n",
    "\n",
    "# Inside of the Car class create a method that has 4 parameter in total (self,year,door,seats) \n",
    "\n",
    "# Output: This car is from 2019 and is a Ford Expolorer and has 4 doors and 5 seats\n",
    "\n",
    "class Car():\n",
    "    def __init__(self, make, model):\n",
    "        self.make = make\n",
    "        self.model = model\n",
    "        \n",
    "      #  don't need to use the self bit here because it is scoped to the car class\n",
    "        #but this is like a library, take a book and put it back??\n",
    "    def add_car_att(self,year,doors,seats):\n",
    "\n",
    "        print (f\"This car is from {year} it is a {self.make} {self.model} with {doors} doors and {seats} seats.\")\n",
    "        \n",
    "#HAVE TO INSTANTIATE the class FIRST before you run the helper methods(CALLRD METHODS BECAUSE WE ARE IN A CLASS)       \n",
    "def run():\n",
    "    subaru = Car('Subaru','Crosstrek')\n",
    "    subaru.add_car_att(2014,4,5)\n",
    "\n",
    "run()\n",
    "\n"
   ]
  },
  {
   "cell_type": "markdown",
   "metadata": {},
   "source": [
    "## Inheritance <br>\n",
    "<p>You can create a child-parent relationship between two classes by using inheritance. What this allows you to do is have overriding methods, but also inherit traits from the parent class. Think of it as an actual parent and child, the child will inherit the parent's genes, as will the classes in OOP</p>"
   ]
  },
  {
   "cell_type": "markdown",
   "metadata": {},
   "source": [
    "##### Syntax for Inheriting from a Parent Class"
   ]
  },
  {
   "cell_type": "code",
   "execution_count": 52,
   "metadata": {},
   "outputs": [
    {
     "name": "stdout",
     "output_type": "stream",
     "text": [
      "Some sound\n",
      "None\n",
      "Purr\n"
     ]
    },
    {
     "data": {
      "text/plain": [
       "'Orange'"
      ]
     },
     "execution_count": 52,
     "metadata": {},
     "output_type": "execute_result"
    }
   ],
   "source": [
    "#think inception - something we can use inside of calsses - child / parent\n",
    "# parent is stubborn - the child will also be stubborn\n",
    "# use inh because you eant to use another classes functionality.\n",
    "# Like Flask , thatere is a call in\n",
    "# flask that meake loggin gin easy, instad of creatin out own core\n",
    "# , just use Flasks, pre0wtitten code.\n",
    "# amnimal and dog, giving a dog the characteristics of the animal class\n",
    "\n",
    "\n",
    "#********This is no overriging\n",
    "class Animal():\n",
    "    acclereration : 9.8\n",
    "    \n",
    "    def __init__(self,name, species, legs = 4):\n",
    "        self.name = name\n",
    "        self.species = species\n",
    "        self.legs = legs\n",
    "        \n",
    "    def makeSound(self):\n",
    "        print (\"Some sound\")\n",
    "   \n",
    "\n",
    "\n",
    "#********This is no overriding\n",
    " #The momente we creae a dog class and pass in  Animal we had inheritance\n",
    "class Dog(Animal):\n",
    "    speed = 15\n",
    "    \n",
    "    def printInfo(self):\n",
    "        print(f'This dog is {self.name}')\n",
    "\n",
    "        \n",
    "        \n",
    "# Inheritience WITH override        \n",
    "class Cat(Animal):\n",
    "    #this is a constant value\n",
    "    eye_color = 'brown'\n",
    "    \n",
    "    def __init__(self,name, species,color, legs = 4):\n",
    "        #calling on the ANIMAL class \n",
    "        Animal.__init__(self,name, species, legs)\n",
    "        self.color = color\n",
    "        \n",
    "        #OVERRIDING THE PARENT CLASS #we want to overwite the sound \n",
    "    def makeSound(self):\n",
    "        print(\"Purr\")\n",
    "        \n",
    "#help(Dog) - shows you the pecking order/ Hierchy - builtin, animal dog\n",
    "#MRO is important\n",
    "# lassie = Dog(\"lassie\",\"dog\")\n",
    "# lassie.printInfo()\n",
    "\n",
    "#\n",
    "#help(Cat)\n",
    "# generic_animal = Animal('Generic', 'Random_species')\n",
    "# print(generic_animal.makeSound())\n",
    "\n",
    "#now to create cat  - these are constructed value\n",
    "garfield = Cat('Garfield',\"Cat\", 'Orange')\n",
    "garfield.name\n",
    "garfield.makeSound()\n",
    "garfield.color\n",
    "#garfield.eye_color\n",
    "#garfield.legs\n",
    "\n",
    "\n"
   ]
  },
  {
   "cell_type": "markdown",
   "metadata": {},
   "source": [
    "##### The \\__init\\__() Method for a Child Class - super()"
   ]
  },
  {
   "cell_type": "code",
   "execution_count": null,
   "metadata": {
    "scrolled": true
   },
   "outputs": [],
   "source": [
    "# inheritance with the super() function\n",
    "#using ingeritnce but not using Animal\n",
    "\n",
    "class Bird(Animal):\n",
    "    speed = \"25 mph\"\n",
    "    # now inherited values\n",
    "    def __init__(self,name,species,color,legs = 4):\n",
    "        ###DONT NEED TO USE SELF here - super looks at animal and builtins for all the 'self info'\n",
    "        #can't inherit more than one thing causes problems i.e.class (Bird(Animal,Dog))\n",
    "        super().__init__(name,species,legs)\n",
    "        self.color  = color\n",
    "        \n",
    "    def printInfo(self):\n",
    "        print(f'This Bird is {self.color}')\n",
    "\n",
    "#help(Bird)\n",
    "polly = Bird(\"polly\",\"Bird\",\"Red\")\n",
    "polly.printInfo()"
   ]
  },
  {
   "cell_type": "code",
   "execution_count": null,
   "metadata": {},
   "outputs": [],
   "source": [
    "#Multpiple Inherit\n",
    "#get access to data inside a class, wint get access  to more than one module in Flask\n",
    "\n",
    "# WORKING NOW\n",
    "\n",
    "class Bird(Cat,Animal):\n",
    "    speed = \"25 mph\"\n",
    "    # now inherited values\n",
    "    def __init__(self,name,species,color,legs = 4):\n",
    "        super().__init__(name,species, color, legs)   \n",
    "        self.color  = color\n",
    "        \n",
    "    def printInfo(self):\n",
    "        print(f'This Bird is {self.color}')\n",
    "\n",
    "#help(Bird)\n",
    "polly = Bird(\"polly\",\"Bird\",\"Red\")\n",
    "polly.printInfo()"
   ]
  },
  {
   "cell_type": "markdown",
   "metadata": {},
   "source": [
    "##### Defining Attributes and Methods for the Child Class"
   ]
  },
  {
   "cell_type": "code",
   "execution_count": null,
   "metadata": {},
   "outputs": [],
   "source": [
    "\n"
   ]
  },
  {
   "cell_type": "markdown",
   "metadata": {},
   "source": [
    "##### Method Overriding"
   ]
  },
  {
   "cell_type": "code",
   "execution_count": null,
   "metadata": {},
   "outputs": [],
   "source": [
    "# See Above"
   ]
  },
  {
   "cell_type": "markdown",
   "metadata": {},
   "source": [
    "## Classes as Attributes <br>\n",
    "<p>Classes can also be used as attributes within another class. This is useful in situations where you need to keep variables locally stored, instead of globally stored.</p>"
   ]
  },
  {
   "cell_type": "code",
   "execution_count": null,
   "metadata": {},
   "outputs": [],
   "source": [
    "#insead of inheirint we aew instatianed a class inside of anither class\n",
    "#do thsi if you don't wnat to use inheritance\n",
    "class Battery():\n",
    "    #only available inside of battery\n",
    "    volts = 7.8\n",
    "    \n",
    "    def __init__(self,cells):\n",
    "        self.cells = cells\n",
    "        \n",
    "#Create the battery so we can use it's attributes inside my car        \n",
    "class Car():\n",
    "    def __init__(self, year, make, model, battery):\n",
    "        self.year = year\n",
    "        self.make = make\n",
    "        self.model = model\n",
    "        self.battery = battery\n",
    "        \n",
    "    def printInfo(self):\n",
    "        print(self.year,self.make,self.battery.volts, self.battery.cells)\n",
    "\n",
    "#have to add the 20 because CELLS is a parameter of the battery class\n",
    "battery1 = Battery(20)\n",
    "tesla = Car(2020,\"Tesla\", \"model X\", battery1)\n",
    "tesla.printInfo()\n",
    "                  "
   ]
  },
  {
   "cell_type": "markdown",
   "metadata": {},
   "source": [
    "# Exercises"
   ]
  },
  {
   "cell_type": "markdown",
   "metadata": {},
   "source": [
    "### Exercise 1 - Turn the shopping cart program from yesterday into an object-oriented program\n",
    "\n",
    "The comments in the cell below are there as a guide for thinking about the problem. However, if you feel a different way is best for you and your own thought process, please do what feels best for you by all means."
   ]
  },
  {
   "cell_type": "code",
   "execution_count": null,
   "metadata": {},
   "outputs": [],
   "source": [
    "# Create a class called cart that retains items and has methods to add, remove, and show\n",
    "from IPython.display import clear_output\n",
    "\n",
    "class Cart():\n",
    "    def __init__(self, items):\n",
    "        #constructed values\n",
    "        self.items = items\n",
    "\n",
    "    def showCart(self):\n",
    "        clear_output()\n",
    "        if self.items == []:\n",
    "            print(\"\\nYour cart is empty\")\n",
    "        else: \n",
    "            print(\"\\nList of items in your cart\")\n",
    "            for item in self.items:       \n",
    "                print(item)\n",
    "\n",
    "\n",
    "    def addToCart(self):\n",
    "        clear_output()\n",
    "        item_name = input('\\nEnter item name: ')\n",
    "        self.items.append(item_name)\n",
    "\n",
    "\n",
    "    def deleteItem(self):\n",
    "        clear_output()\n",
    "        if self.items ==[]:\n",
    "            print(\"\\nYour cart is empty, there is nothing to delete\")            \n",
    "        else:\n",
    "            items_delete = input(\"\\nEnter item name an that you want to delete from your cart (this deletes all occurences) \")         \n",
    "            if items_delete not in self.items:\n",
    "                print(\"\\nItems could not be found in your cart, please try again\")\n",
    "                items_delete = input(\"\\nEnter item name an that you want to delete from your cart (this deletes all occurences) \")\n",
    "                while items_delete in self.items:\n",
    "                    self.items.remove(items_delete)\n",
    "            else:\n",
    "                while items_delete in self.items:\n",
    "                    self.items.remove(items_delete)\n",
    "\n",
    "\n",
    "\n",
    "def run():\n",
    "    shopping_cart = Cart([])\n",
    "    while True:\n",
    "        print(\"\\nEnter what you want to do - the choices are: \")     \n",
    "        action = input(\"Show / Add / Delete or Quit: \")\n",
    "        if (action.lower()).strip() == 'show':\n",
    "                shopping_cart.showCart()\n",
    "        if (action.lower()).strip() == 'add':\n",
    "                shopping_cart.addToCart()\n",
    "        if (action.lower()).strip() == 'delete':\n",
    "            shopping_cart.deleteItem()\n",
    "        if (action.lower()).strip() == 'quit':\n",
    "                shopping_cart.showCart()\n",
    "                break\n",
    "\n",
    "\n",
    "run()\n",
    "\n",
    "    "
   ]
  },
  {
   "cell_type": "markdown",
   "metadata": {},
   "source": [
    "### Exercise 2 - Create a class 'Ford' that inherits from 'Car' class and initialize it as a Blue Ford Explorer with 4 wheels using the super() method, add a method to car which prints 'this is a car' and create an overriding method in class Ford that prints the information on the car"
   ]
  },
  {
   "cell_type": "code",
   "execution_count": 68,
   "metadata": {},
   "outputs": [
    {
     "name": "stdout",
     "output_type": "stream",
     "text": [
      "This is a blue Ford Explorer \n"
     ]
    }
   ],
   "source": [
    "# Create Parent Class called Car - That will be inherited by child Class called Ford\n",
    "# Add a method to the Car class that prints \"This is a car\"\n",
    "# Inside of the Child Class initialize the the inherited info using super()\n",
    "# Override the above method with the information of the Ford Car\n",
    "\n",
    "class Car:\n",
    "    def __init__(self, make, model, wheels):\n",
    "        self.make = make\n",
    "        self.model = model        \n",
    "        self.wheels = wheels\n",
    "\n",
    "    def printInfo(self):\n",
    "        print(\"This is a car\")\n",
    "\n",
    "\n",
    "        \n",
    "#inheritance with override, without super()\n",
    "class Ford(Car):\n",
    "    def __init__(self, make, model, color, wheels ):\n",
    "        super().__init__(make, model, wheels)\n",
    "        self.color = color\n",
    "\n",
    "    #Overiding the parent printInfo method\n",
    "    def printInfo(self):\n",
    "        print(f\"This is a {self.color} {self.make} {self.model} \")\n",
    "\n",
    "#creating a Ford instance, not a Car instance\n",
    "fordExp = Ford('Ford','Explorer', 'blue', 4)\n",
    "\n",
    "fordExp.printInfo()\n"
   ]
  }
 ],
 "metadata": {
  "kernelspec": {
   "display_name": "Python 3",
   "language": "python",
   "name": "python3"
  },
  "language_info": {
   "codemirror_mode": {
    "name": "ipython",
    "version": 3
   },
   "file_extension": ".py",
   "mimetype": "text/x-python",
   "name": "python",
   "nbconvert_exporter": "python",
   "pygments_lexer": "ipython3",
   "version": "3.7.6"
  }
 },
 "nbformat": 4,
 "nbformat_minor": 2
}
